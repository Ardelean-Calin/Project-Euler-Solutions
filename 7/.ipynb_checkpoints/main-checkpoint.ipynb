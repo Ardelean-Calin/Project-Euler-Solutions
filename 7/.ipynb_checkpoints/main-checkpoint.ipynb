{
 "metadata": {
  "name": "",
  "signature": "sha256:b0a52357d399de6c5a9cdbcca7e9872cdbb1351d01619d91243c1248f0b06cdd"
 },
 "nbformat": 3,
 "nbformat_minor": 0,
 "worksheets": [
  {
   "cells": [
    {
     "cell_type": "code",
     "collapsed": false,
     "input": [
      "import math"
     ],
     "language": "python",
     "metadata": {},
     "outputs": [],
     "prompt_number": 8
    },
    {
     "cell_type": "code",
     "collapsed": false,
     "input": [
      "def isPrime(n):\n",
      "    a = math.ceil(math.sqrt(n))\n",
      "    for i in range(2, a+1):\n",
      "        if (n%i==0): return False\n",
      "    return True"
     ],
     "language": "python",
     "metadata": {},
     "outputs": [],
     "prompt_number": 61
    },
    {
     "cell_type": "code",
     "collapsed": false,
     "input": [
      "n = 1 # pe 2 nu l-am detectat\n",
      "i = 2\n",
      "while n < 10001:\n",
      "    if isPrime(i): n+= 1\n",
      "    if n==10001: print(i)\n",
      "    i+=1"
     ],
     "language": "python",
     "metadata": {},
     "outputs": [
      {
       "output_type": "stream",
       "stream": "stdout",
       "text": [
        "104743\n"
       ]
      }
     ],
     "prompt_number": 72
    },
    {
     "cell_type": "code",
     "collapsed": false,
     "input": [],
     "language": "python",
     "metadata": {},
     "outputs": []
    }
   ],
   "metadata": {}
  }
 ]
}