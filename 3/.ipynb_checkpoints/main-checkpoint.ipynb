{
 "metadata": {
  "name": "",
  "signature": "sha256:07007e8bb4214502ecedcd1f0d9990b564ac770b413caafe009297d84da9f022"
 },
 "nbformat": 3,
 "nbformat_minor": 0,
 "worksheets": [
  {
   "cells": [
    {
     "cell_type": "code",
     "collapsed": false,
     "input": [
      "def primeFactorization(n):\n",
      "    if n == 1: return\n",
      "    \n",
      "    for i in range(2, n+1):\n",
      "        if (n%i == 0):\n",
      "            n /= i\n",
      "            print(i)\n",
      "            primeFactorization(int(n))\n",
      "            return\n",
      "        \n",
      "def maximumPrimeFactor(n, factor = 0):\n",
      "    if n == 1: return factor\n",
      "    \n",
      "    for i in range(2, n+1):\n",
      "        if (n%i == 0):\n",
      "            n /= i\n",
      "            factor = max(i, factor)\n",
      "            factor = maximumPrimeFactor(int(n), factor)\n",
      "            return factor"
     ],
     "language": "python",
     "metadata": {},
     "outputs": [],
     "prompt_number": 50
    },
    {
     "cell_type": "code",
     "collapsed": false,
     "input": [
      "primeFactorization(600851475143)\n",
      "maximumPrimeFactor(600851475143)"
     ],
     "language": "python",
     "metadata": {},
     "outputs": [
      {
       "output_type": "stream",
       "stream": "stdout",
       "text": [
        "71\n",
        "839\n",
        "1471\n",
        "6857\n"
       ]
      },
      {
       "metadata": {},
       "output_type": "pyout",
       "prompt_number": 56,
       "text": [
        "6857"
       ]
      }
     ],
     "prompt_number": 56
    },
    {
     "cell_type": "code",
     "collapsed": false,
     "input": [],
     "language": "python",
     "metadata": {},
     "outputs": []
    }
   ],
   "metadata": {}
  }
 ]
}