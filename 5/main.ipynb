{
 "metadata": {
  "name": "",
  "signature": "sha256:1f85c12caa39f4ff1823af2b4002aec9cc6344cd45414afc4f665b2db1dabea2"
 },
 "nbformat": 3,
 "nbformat_minor": 0,
 "worksheets": [
  {
   "cells": [
    {
     "cell_type": "code",
     "collapsed": false,
     "input": [
      "import math"
     ],
     "language": "python",
     "metadata": {},
     "outputs": [],
     "prompt_number": 1
    },
    {
     "cell_type": "code",
     "collapsed": false,
     "input": [
      "def getFactors(n, flist):\n",
      "    # functie ce returneaza o lista cu toti factorii primi\n",
      "    # al unui numar. ATENTIE, SE PARE CA NU MERGE DECAT PENTRU NUMERE MICI\n",
      "    # INCEARCA 99999991991 DE EXEMPLU\n",
      "    if n == 1: return flist\n",
      "    \n",
      "    for i in range(2, n+1):\n",
      "        if (n%i == 0):\n",
      "            n /= i\n",
      "            flist.append(i)\n",
      "            flist = getFactors(int(n), flist)\n",
      "            return flist"
     ],
     "language": "python",
     "metadata": {},
     "outputs": [],
     "prompt_number": 2
    },
    {
     "cell_type": "code",
     "collapsed": false,
     "input": [
      "numberList = [i for i in range(2, 21)]\n",
      "primeList = [2, 3, 5, 7, 11, 13, 17, 19]\n",
      "primePow = [0, 0, 0, 0, 0, 0, 0, 0] # de cate ori apare fiecare factor aka la ce putere\n",
      "\n",
      "# LCM (Lowest Common Multiple)\n",
      "# LCM = produsul factorilor primi cei mai mari. \n",
      "# Adica intre 4 = 2^2 si 8=2^3 alegem 2^3, nu pe amandoi\n",
      "for number in numberList:\n",
      "    factors = getFactors(number, []) # obtin o lista cu toti factorii primi\n",
      "    for i in range(0, len(primeList)): \n",
      "        # numar de cate ori apare fiecare numar prim in lista de mai sus\n",
      "        # si notez in alta lista acel numar daca e mai mare decat cel \n",
      "        # prezent deja in lista\n",
      "        primePow[i] = max(primePow[i], factors.count(primeList[i]))\n",
      "\n",
      "product = 1\n",
      "for i in range(0, len(primeList)):\n",
      "    # rezultatul meu este ridicare fiecarui numar prim mai mic ca 20\n",
      "    # la puterea cea mai mare (aflata in primePow)\n",
      "    product *= math.pow(primeList[i], primePow[i])\n",
      "    \n",
      "print(int(product))"
     ],
     "language": "python",
     "metadata": {},
     "outputs": [
      {
       "output_type": "stream",
       "stream": "stdout",
       "text": [
        "232792560\n"
       ]
      }
     ],
     "prompt_number": 24
    },
    {
     "cell_type": "code",
     "collapsed": false,
     "input": [
      "getFactors(99999991991)"
     ],
     "language": "python",
     "metadata": {},
     "outputs": [
      {
       "metadata": {},
       "output_type": "pyout",
       "prompt_number": 25,
       "text": [
        "[4, 625, 2, 3, 2, 2, 5, 2, 3, 7, 2, 2, 2, 3, 3, 2, 5, 61, 1609, 1018859]"
       ]
      }
     ],
     "prompt_number": 25
    }
   ],
   "metadata": {}
  }
 ]
}