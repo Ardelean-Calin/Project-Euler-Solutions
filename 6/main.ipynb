{
 "metadata": {
  "name": "",
  "signature": "sha256:7a0e8488b5fafab4ab8c391d0fa8262160ab7a3613b352e15ed5681391973657"
 },
 "nbformat": 3,
 "nbformat_minor": 0,
 "worksheets": [
  {
   "cells": [
    {
     "cell_type": "code",
     "collapsed": false,
     "input": [
      "import math\n",
      "\n",
      "sumOfSquares = 0\n",
      "squareOfSums = 0\n",
      "# simple to understand, doesn't need explaination\n",
      "for i in range(1, 101):\n",
      "    sumOfSquares += math.pow(i, 2)\n",
      "    squareOfSums += i\n",
      "    \n",
      "squareOfSums *= squareOfSums\n",
      "\n",
      "print(squareOfSums-sumOfSquares)"
     ],
     "language": "python",
     "metadata": {},
     "outputs": [
      {
       "output_type": "stream",
       "stream": "stdout",
       "text": [
        "25164150.0\n"
       ]
      }
     ],
     "prompt_number": 3
    }
   ],
   "metadata": {}
  }
 ]
}