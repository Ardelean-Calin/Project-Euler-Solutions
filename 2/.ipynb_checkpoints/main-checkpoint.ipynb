{
 "metadata": {
  "name": "",
  "signature": "sha256:9efd53da5584c62a172d510fbd7e66ede055e1239143cce4e9166227ee744088"
 },
 "nbformat": 3,
 "nbformat_minor": 0,
 "worksheets": [
  {
   "cells": [
    {
     "cell_type": "code",
     "collapsed": false,
     "input": [
      "a, b = 1, 2\n",
      "new_a, new_b = a, b\n",
      "sum = 0\n",
      "\n",
      "while a < 4e6 and b < 4e6:\n",
      "    if b%2==0:\n",
      "        sum = sum + b\n",
      "    new_a = b\n",
      "    new_b = a + b\n",
      "    a, b = new_a, new_b"
     ],
     "language": "python",
     "metadata": {},
     "outputs": [],
     "prompt_number": 2
    },
    {
     "cell_type": "code",
     "collapsed": false,
     "input": [
      "sum"
     ],
     "language": "python",
     "metadata": {},
     "outputs": [
      {
       "metadata": {},
       "output_type": "pyout",
       "prompt_number": 3,
       "text": [
        "4613732"
       ]
      }
     ],
     "prompt_number": 3
    },
    {
     "cell_type": "code",
     "collapsed": false,
     "input": [],
     "language": "python",
     "metadata": {},
     "outputs": []
    }
   ],
   "metadata": {}
  }
 ]
}